{
  "cells": [
    {
      "cell_type": "code",
      "execution_count": null,
      "id": "549b5f84",
      "metadata": {
        "id": "549b5f84",
        "colab": {
          "base_uri": "https://localhost:8080/"
        },
        "outputId": "5fc1d50b-89fb-409f-cbc1-6cc16bcf6c2f"
      },
      "outputs": [
        {
          "output_type": "stream",
          "name": "stdout",
          "text": [
            "Looking in indexes: https://pypi.org/simple, https://us-python.pkg.dev/colab-wheels/public/simple/\n",
            "Collecting gurobipy\n",
            "  Downloading gurobipy-10.0.0-cp37-cp37m-manylinux2014_x86_64.whl (12.9 MB)\n",
            "\u001b[K     |████████████████████████████████| 12.9 MB 325 kB/s \n",
            "\u001b[?25hInstalling collected packages: gurobipy\n",
            "Successfully installed gurobipy-10.0.0\n"
          ]
        }
      ],
      "source": [
        "import pandas as pd\n",
        "import numpy as np\n",
        "import seaborn as sns\n",
        "import matplotlib.pyplot as plt\n",
        "!pip install gurobipy\n",
        "import gurobipy as gp\n",
        "from sklearn.linear_model import LassoCV\n",
        "from sklearn.model_selection import KFold\n",
        "%matplotlib inline"
      ]
    },
    {
      "cell_type": "code",
      "execution_count": null,
      "id": "f690a24b",
      "metadata": {
        "id": "f690a24b",
        "outputId": "f959ef23-25ff-4ac1-acdc-f1ce3b7bda5d",
        "colab": {
          "base_uri": "https://localhost:8080/"
        }
      },
      "outputs": [
        {
          "output_type": "execute_result",
          "data": {
            "text/plain": [
              "((250, 52), (50, 52))"
            ]
          },
          "metadata": {},
          "execution_count": 3
        }
      ],
      "source": [
        "#Reading train and test dataset while adding X0 for intercept\n",
        "train_df = pd.read_csv(\"training_data.csv\")\n",
        "train_df.insert(1, 'X0', [1]*len(train_df)) # Inserting X0 value in column 2\n",
        "test_df = pd.read_csv(\"test_data.csv\")\n",
        "test_df.insert(1, 'X0', [1]*len(test_df))\n",
        "train_df.shape, test_df.shape"
      ]
    },
    {
      "cell_type": "code",
      "execution_count": null,
      "id": "b6628ede",
      "metadata": {
        "id": "b6628ede",
        "outputId": "7aa13d5c-27d2-4300-9334-9651c58a8f51",
        "colab": {
          "base_uri": "https://localhost:8080/",
          "height": 300
        }
      },
      "outputs": [
        {
          "output_type": "execute_result",
          "data": {
            "text/plain": [
              "          y  X0        X1        X2        X3        X4        X5        X6  \\\n",
              "0  8.536145   1 -1.535413  0.718888 -2.099149 -0.442842 -0.598978 -1.642574   \n",
              "1  4.808344   1 -1.734609  0.551981 -2.147673 -1.552944  1.514910 -1.143972   \n",
              "2 -1.530427   1  0.097257  0.107634 -0.194222  0.335454 -0.408199  0.133265   \n",
              "3 -0.428243   1 -0.067702  0.557836  0.700848 -1.121376  1.722274  0.613525   \n",
              "4  0.566694   1  0.488729  0.211483  0.568389  0.646837  0.163868 -0.002152   \n",
              "\n",
              "         X7        X8  ...       X41       X42       X43       X44       X45  \\\n",
              "0  0.207755  0.760642  ...  0.361866  1.793098 -0.631287 -0.061751  0.511049   \n",
              "1  0.737594  1.321243  ... -0.677985 -0.165679  0.065405  0.137162  1.258197   \n",
              "2  0.706179  0.394971  ...  1.108801  0.333791  0.282055 -1.086294 -0.115354   \n",
              "3  0.700909 -0.417976  ...  0.692511 -0.350990  0.624558  0.434520 -0.367409   \n",
              "4  0.125137  0.493571  ... -0.000605  1.075280  0.182281 -1.138458  0.106092   \n",
              "\n",
              "        X46       X47       X48       X49       X50  \n",
              "0  0.488754 -0.612772 -0.471045 -1.139781 -0.260773  \n",
              "1 -0.120834 -1.564834 -0.242565 -0.001827  1.187453  \n",
              "2  0.257857 -0.088838 -0.751231  1.450609  0.290593  \n",
              "3 -1.144681 -0.136524 -0.557214  0.416303  0.484495  \n",
              "4  0.544640 -0.383487 -0.425773  2.667647 -0.050748  \n",
              "\n",
              "[5 rows x 52 columns]"
            ],
            "text/html": [
              "\n",
              "  <div id=\"df-c74c9ce2-7502-4bb1-b2a8-4da1be2b5a82\">\n",
              "    <div class=\"colab-df-container\">\n",
              "      <div>\n",
              "<style scoped>\n",
              "    .dataframe tbody tr th:only-of-type {\n",
              "        vertical-align: middle;\n",
              "    }\n",
              "\n",
              "    .dataframe tbody tr th {\n",
              "        vertical-align: top;\n",
              "    }\n",
              "\n",
              "    .dataframe thead th {\n",
              "        text-align: right;\n",
              "    }\n",
              "</style>\n",
              "<table border=\"1\" class=\"dataframe\">\n",
              "  <thead>\n",
              "    <tr style=\"text-align: right;\">\n",
              "      <th></th>\n",
              "      <th>y</th>\n",
              "      <th>X0</th>\n",
              "      <th>X1</th>\n",
              "      <th>X2</th>\n",
              "      <th>X3</th>\n",
              "      <th>X4</th>\n",
              "      <th>X5</th>\n",
              "      <th>X6</th>\n",
              "      <th>X7</th>\n",
              "      <th>X8</th>\n",
              "      <th>...</th>\n",
              "      <th>X41</th>\n",
              "      <th>X42</th>\n",
              "      <th>X43</th>\n",
              "      <th>X44</th>\n",
              "      <th>X45</th>\n",
              "      <th>X46</th>\n",
              "      <th>X47</th>\n",
              "      <th>X48</th>\n",
              "      <th>X49</th>\n",
              "      <th>X50</th>\n",
              "    </tr>\n",
              "  </thead>\n",
              "  <tbody>\n",
              "    <tr>\n",
              "      <th>0</th>\n",
              "      <td>8.536145</td>\n",
              "      <td>1</td>\n",
              "      <td>-1.535413</td>\n",
              "      <td>0.718888</td>\n",
              "      <td>-2.099149</td>\n",
              "      <td>-0.442842</td>\n",
              "      <td>-0.598978</td>\n",
              "      <td>-1.642574</td>\n",
              "      <td>0.207755</td>\n",
              "      <td>0.760642</td>\n",
              "      <td>...</td>\n",
              "      <td>0.361866</td>\n",
              "      <td>1.793098</td>\n",
              "      <td>-0.631287</td>\n",
              "      <td>-0.061751</td>\n",
              "      <td>0.511049</td>\n",
              "      <td>0.488754</td>\n",
              "      <td>-0.612772</td>\n",
              "      <td>-0.471045</td>\n",
              "      <td>-1.139781</td>\n",
              "      <td>-0.260773</td>\n",
              "    </tr>\n",
              "    <tr>\n",
              "      <th>1</th>\n",
              "      <td>4.808344</td>\n",
              "      <td>1</td>\n",
              "      <td>-1.734609</td>\n",
              "      <td>0.551981</td>\n",
              "      <td>-2.147673</td>\n",
              "      <td>-1.552944</td>\n",
              "      <td>1.514910</td>\n",
              "      <td>-1.143972</td>\n",
              "      <td>0.737594</td>\n",
              "      <td>1.321243</td>\n",
              "      <td>...</td>\n",
              "      <td>-0.677985</td>\n",
              "      <td>-0.165679</td>\n",
              "      <td>0.065405</td>\n",
              "      <td>0.137162</td>\n",
              "      <td>1.258197</td>\n",
              "      <td>-0.120834</td>\n",
              "      <td>-1.564834</td>\n",
              "      <td>-0.242565</td>\n",
              "      <td>-0.001827</td>\n",
              "      <td>1.187453</td>\n",
              "    </tr>\n",
              "    <tr>\n",
              "      <th>2</th>\n",
              "      <td>-1.530427</td>\n",
              "      <td>1</td>\n",
              "      <td>0.097257</td>\n",
              "      <td>0.107634</td>\n",
              "      <td>-0.194222</td>\n",
              "      <td>0.335454</td>\n",
              "      <td>-0.408199</td>\n",
              "      <td>0.133265</td>\n",
              "      <td>0.706179</td>\n",
              "      <td>0.394971</td>\n",
              "      <td>...</td>\n",
              "      <td>1.108801</td>\n",
              "      <td>0.333791</td>\n",
              "      <td>0.282055</td>\n",
              "      <td>-1.086294</td>\n",
              "      <td>-0.115354</td>\n",
              "      <td>0.257857</td>\n",
              "      <td>-0.088838</td>\n",
              "      <td>-0.751231</td>\n",
              "      <td>1.450609</td>\n",
              "      <td>0.290593</td>\n",
              "    </tr>\n",
              "    <tr>\n",
              "      <th>3</th>\n",
              "      <td>-0.428243</td>\n",
              "      <td>1</td>\n",
              "      <td>-0.067702</td>\n",
              "      <td>0.557836</td>\n",
              "      <td>0.700848</td>\n",
              "      <td>-1.121376</td>\n",
              "      <td>1.722274</td>\n",
              "      <td>0.613525</td>\n",
              "      <td>0.700909</td>\n",
              "      <td>-0.417976</td>\n",
              "      <td>...</td>\n",
              "      <td>0.692511</td>\n",
              "      <td>-0.350990</td>\n",
              "      <td>0.624558</td>\n",
              "      <td>0.434520</td>\n",
              "      <td>-0.367409</td>\n",
              "      <td>-1.144681</td>\n",
              "      <td>-0.136524</td>\n",
              "      <td>-0.557214</td>\n",
              "      <td>0.416303</td>\n",
              "      <td>0.484495</td>\n",
              "    </tr>\n",
              "    <tr>\n",
              "      <th>4</th>\n",
              "      <td>0.566694</td>\n",
              "      <td>1</td>\n",
              "      <td>0.488729</td>\n",
              "      <td>0.211483</td>\n",
              "      <td>0.568389</td>\n",
              "      <td>0.646837</td>\n",
              "      <td>0.163868</td>\n",
              "      <td>-0.002152</td>\n",
              "      <td>0.125137</td>\n",
              "      <td>0.493571</td>\n",
              "      <td>...</td>\n",
              "      <td>-0.000605</td>\n",
              "      <td>1.075280</td>\n",
              "      <td>0.182281</td>\n",
              "      <td>-1.138458</td>\n",
              "      <td>0.106092</td>\n",
              "      <td>0.544640</td>\n",
              "      <td>-0.383487</td>\n",
              "      <td>-0.425773</td>\n",
              "      <td>2.667647</td>\n",
              "      <td>-0.050748</td>\n",
              "    </tr>\n",
              "  </tbody>\n",
              "</table>\n",
              "<p>5 rows × 52 columns</p>\n",
              "</div>\n",
              "      <button class=\"colab-df-convert\" onclick=\"convertToInteractive('df-c74c9ce2-7502-4bb1-b2a8-4da1be2b5a82')\"\n",
              "              title=\"Convert this dataframe to an interactive table.\"\n",
              "              style=\"display:none;\">\n",
              "        \n",
              "  <svg xmlns=\"http://www.w3.org/2000/svg\" height=\"24px\"viewBox=\"0 0 24 24\"\n",
              "       width=\"24px\">\n",
              "    <path d=\"M0 0h24v24H0V0z\" fill=\"none\"/>\n",
              "    <path d=\"M18.56 5.44l.94 2.06.94-2.06 2.06-.94-2.06-.94-.94-2.06-.94 2.06-2.06.94zm-11 1L8.5 8.5l.94-2.06 2.06-.94-2.06-.94L8.5 2.5l-.94 2.06-2.06.94zm10 10l.94 2.06.94-2.06 2.06-.94-2.06-.94-.94-2.06-.94 2.06-2.06.94z\"/><path d=\"M17.41 7.96l-1.37-1.37c-.4-.4-.92-.59-1.43-.59-.52 0-1.04.2-1.43.59L10.3 9.45l-7.72 7.72c-.78.78-.78 2.05 0 2.83L4 21.41c.39.39.9.59 1.41.59.51 0 1.02-.2 1.41-.59l7.78-7.78 2.81-2.81c.8-.78.8-2.07 0-2.86zM5.41 20L4 18.59l7.72-7.72 1.47 1.35L5.41 20z\"/>\n",
              "  </svg>\n",
              "      </button>\n",
              "      \n",
              "  <style>\n",
              "    .colab-df-container {\n",
              "      display:flex;\n",
              "      flex-wrap:wrap;\n",
              "      gap: 12px;\n",
              "    }\n",
              "\n",
              "    .colab-df-convert {\n",
              "      background-color: #E8F0FE;\n",
              "      border: none;\n",
              "      border-radius: 50%;\n",
              "      cursor: pointer;\n",
              "      display: none;\n",
              "      fill: #1967D2;\n",
              "      height: 32px;\n",
              "      padding: 0 0 0 0;\n",
              "      width: 32px;\n",
              "    }\n",
              "\n",
              "    .colab-df-convert:hover {\n",
              "      background-color: #E2EBFA;\n",
              "      box-shadow: 0px 1px 2px rgba(60, 64, 67, 0.3), 0px 1px 3px 1px rgba(60, 64, 67, 0.15);\n",
              "      fill: #174EA6;\n",
              "    }\n",
              "\n",
              "    [theme=dark] .colab-df-convert {\n",
              "      background-color: #3B4455;\n",
              "      fill: #D2E3FC;\n",
              "    }\n",
              "\n",
              "    [theme=dark] .colab-df-convert:hover {\n",
              "      background-color: #434B5C;\n",
              "      box-shadow: 0px 1px 3px 1px rgba(0, 0, 0, 0.15);\n",
              "      filter: drop-shadow(0px 1px 2px rgba(0, 0, 0, 0.3));\n",
              "      fill: #FFFFFF;\n",
              "    }\n",
              "  </style>\n",
              "\n",
              "      <script>\n",
              "        const buttonEl =\n",
              "          document.querySelector('#df-c74c9ce2-7502-4bb1-b2a8-4da1be2b5a82 button.colab-df-convert');\n",
              "        buttonEl.style.display =\n",
              "          google.colab.kernel.accessAllowed ? 'block' : 'none';\n",
              "\n",
              "        async function convertToInteractive(key) {\n",
              "          const element = document.querySelector('#df-c74c9ce2-7502-4bb1-b2a8-4da1be2b5a82');\n",
              "          const dataTable =\n",
              "            await google.colab.kernel.invokeFunction('convertToInteractive',\n",
              "                                                     [key], {});\n",
              "          if (!dataTable) return;\n",
              "\n",
              "          const docLinkHtml = 'Like what you see? Visit the ' +\n",
              "            '<a target=\"_blank\" href=https://colab.research.google.com/notebooks/data_table.ipynb>data table notebook</a>'\n",
              "            + ' to learn more about interactive tables.';\n",
              "          element.innerHTML = '';\n",
              "          dataTable['output_type'] = 'display_data';\n",
              "          await google.colab.output.renderOutput(dataTable, element);\n",
              "          const docLink = document.createElement('div');\n",
              "          docLink.innerHTML = docLinkHtml;\n",
              "          element.appendChild(docLink);\n",
              "        }\n",
              "      </script>\n",
              "    </div>\n",
              "  </div>\n",
              "  "
            ]
          },
          "metadata": {},
          "execution_count": 4
        }
      ],
      "source": [
        "train_df.head()"
      ]
    },
    {
      "cell_type": "code",
      "execution_count": null,
      "id": "6f86a9b8",
      "metadata": {
        "id": "6f86a9b8",
        "outputId": "0d2ef79d-7f3d-4bfb-b5c1-863c0ba6a1dc"
      },
      "outputs": [
        {
          "data": {
            "text/html": [
              "<div>\n",
              "<style scoped>\n",
              "    .dataframe tbody tr th:only-of-type {\n",
              "        vertical-align: middle;\n",
              "    }\n",
              "\n",
              "    .dataframe tbody tr th {\n",
              "        vertical-align: top;\n",
              "    }\n",
              "\n",
              "    .dataframe thead th {\n",
              "        text-align: right;\n",
              "    }\n",
              "</style>\n",
              "<table border=\"1\" class=\"dataframe\">\n",
              "  <thead>\n",
              "    <tr style=\"text-align: right;\">\n",
              "      <th></th>\n",
              "      <th>y</th>\n",
              "      <th>X0</th>\n",
              "      <th>X1</th>\n",
              "      <th>X2</th>\n",
              "      <th>X3</th>\n",
              "      <th>X4</th>\n",
              "      <th>X5</th>\n",
              "      <th>X6</th>\n",
              "      <th>X7</th>\n",
              "      <th>X8</th>\n",
              "      <th>...</th>\n",
              "      <th>X41</th>\n",
              "      <th>X42</th>\n",
              "      <th>X43</th>\n",
              "      <th>X44</th>\n",
              "      <th>X45</th>\n",
              "      <th>X46</th>\n",
              "      <th>X47</th>\n",
              "      <th>X48</th>\n",
              "      <th>X49</th>\n",
              "      <th>X50</th>\n",
              "    </tr>\n",
              "  </thead>\n",
              "  <tbody>\n",
              "    <tr>\n",
              "      <th>0</th>\n",
              "      <td>7.107949</td>\n",
              "      <td>1</td>\n",
              "      <td>-2.047008</td>\n",
              "      <td>0.260132</td>\n",
              "      <td>-0.785152</td>\n",
              "      <td>0.384576</td>\n",
              "      <td>-0.137613</td>\n",
              "      <td>-0.364566</td>\n",
              "      <td>-1.941253</td>\n",
              "      <td>-0.108180</td>\n",
              "      <td>...</td>\n",
              "      <td>-0.522194</td>\n",
              "      <td>1.861897</td>\n",
              "      <td>0.124511</td>\n",
              "      <td>1.144071</td>\n",
              "      <td>0.128179</td>\n",
              "      <td>-0.467972</td>\n",
              "      <td>-1.085601</td>\n",
              "      <td>0.659670</td>\n",
              "      <td>0.514719</td>\n",
              "      <td>0.806656</td>\n",
              "    </tr>\n",
              "    <tr>\n",
              "      <th>1</th>\n",
              "      <td>5.796272</td>\n",
              "      <td>1</td>\n",
              "      <td>-1.354328</td>\n",
              "      <td>-1.289884</td>\n",
              "      <td>1.321533</td>\n",
              "      <td>-0.091165</td>\n",
              "      <td>-1.021874</td>\n",
              "      <td>0.686778</td>\n",
              "      <td>0.089737</td>\n",
              "      <td>-0.398371</td>\n",
              "      <td>...</td>\n",
              "      <td>-0.502578</td>\n",
              "      <td>0.584476</td>\n",
              "      <td>0.680703</td>\n",
              "      <td>0.046788</td>\n",
              "      <td>0.569681</td>\n",
              "      <td>-1.099062</td>\n",
              "      <td>-0.069656</td>\n",
              "      <td>0.709273</td>\n",
              "      <td>-0.848665</td>\n",
              "      <td>0.996168</td>\n",
              "    </tr>\n",
              "    <tr>\n",
              "      <th>2</th>\n",
              "      <td>1.598651</td>\n",
              "      <td>1</td>\n",
              "      <td>0.502205</td>\n",
              "      <td>1.062887</td>\n",
              "      <td>1.460733</td>\n",
              "      <td>-1.506403</td>\n",
              "      <td>0.721664</td>\n",
              "      <td>0.528921</td>\n",
              "      <td>-0.699541</td>\n",
              "      <td>-0.270331</td>\n",
              "      <td>...</td>\n",
              "      <td>-0.125195</td>\n",
              "      <td>-1.292924</td>\n",
              "      <td>0.411785</td>\n",
              "      <td>-0.164210</td>\n",
              "      <td>-2.407403</td>\n",
              "      <td>-1.132500</td>\n",
              "      <td>0.452923</td>\n",
              "      <td>-0.945541</td>\n",
              "      <td>0.126523</td>\n",
              "      <td>-0.972075</td>\n",
              "    </tr>\n",
              "    <tr>\n",
              "      <th>3</th>\n",
              "      <td>2.532953</td>\n",
              "      <td>1</td>\n",
              "      <td>0.222381</td>\n",
              "      <td>-0.960747</td>\n",
              "      <td>-0.113762</td>\n",
              "      <td>1.935927</td>\n",
              "      <td>0.969387</td>\n",
              "      <td>-1.641403</td>\n",
              "      <td>0.026647</td>\n",
              "      <td>0.747138</td>\n",
              "      <td>...</td>\n",
              "      <td>-0.546915</td>\n",
              "      <td>-0.192517</td>\n",
              "      <td>0.603420</td>\n",
              "      <td>-0.277331</td>\n",
              "      <td>-1.451419</td>\n",
              "      <td>0.220775</td>\n",
              "      <td>0.474954</td>\n",
              "      <td>-0.160109</td>\n",
              "      <td>0.188047</td>\n",
              "      <td>-1.711229</td>\n",
              "    </tr>\n",
              "    <tr>\n",
              "      <th>4</th>\n",
              "      <td>0.590685</td>\n",
              "      <td>1</td>\n",
              "      <td>1.209949</td>\n",
              "      <td>1.586874</td>\n",
              "      <td>-0.694784</td>\n",
              "      <td>-0.226370</td>\n",
              "      <td>-0.152108</td>\n",
              "      <td>0.772356</td>\n",
              "      <td>-0.573741</td>\n",
              "      <td>-0.992492</td>\n",
              "      <td>...</td>\n",
              "      <td>-0.982236</td>\n",
              "      <td>-1.407777</td>\n",
              "      <td>0.094211</td>\n",
              "      <td>0.159960</td>\n",
              "      <td>-0.901612</td>\n",
              "      <td>-1.653122</td>\n",
              "      <td>0.393518</td>\n",
              "      <td>0.702539</td>\n",
              "      <td>0.552663</td>\n",
              "      <td>-0.773646</td>\n",
              "    </tr>\n",
              "  </tbody>\n",
              "</table>\n",
              "<p>5 rows × 52 columns</p>\n",
              "</div>"
            ],
            "text/plain": [
              "          y  X0        X1        X2        X3        X4        X5        X6  \\\n",
              "0  7.107949   1 -2.047008  0.260132 -0.785152  0.384576 -0.137613 -0.364566   \n",
              "1  5.796272   1 -1.354328 -1.289884  1.321533 -0.091165 -1.021874  0.686778   \n",
              "2  1.598651   1  0.502205  1.062887  1.460733 -1.506403  0.721664  0.528921   \n",
              "3  2.532953   1  0.222381 -0.960747 -0.113762  1.935927  0.969387 -1.641403   \n",
              "4  0.590685   1  1.209949  1.586874 -0.694784 -0.226370 -0.152108  0.772356   \n",
              "\n",
              "         X7        X8  ...       X41       X42       X43       X44       X45  \\\n",
              "0 -1.941253 -0.108180  ... -0.522194  1.861897  0.124511  1.144071  0.128179   \n",
              "1  0.089737 -0.398371  ... -0.502578  0.584476  0.680703  0.046788  0.569681   \n",
              "2 -0.699541 -0.270331  ... -0.125195 -1.292924  0.411785 -0.164210 -2.407403   \n",
              "3  0.026647  0.747138  ... -0.546915 -0.192517  0.603420 -0.277331 -1.451419   \n",
              "4 -0.573741 -0.992492  ... -0.982236 -1.407777  0.094211  0.159960 -0.901612   \n",
              "\n",
              "        X46       X47       X48       X49       X50  \n",
              "0 -0.467972 -1.085601  0.659670  0.514719  0.806656  \n",
              "1 -1.099062 -0.069656  0.709273 -0.848665  0.996168  \n",
              "2 -1.132500  0.452923 -0.945541  0.126523 -0.972075  \n",
              "3  0.220775  0.474954 -0.160109  0.188047 -1.711229  \n",
              "4 -1.653122  0.393518  0.702539  0.552663 -0.773646  \n",
              "\n",
              "[5 rows x 52 columns]"
            ]
          },
          "execution_count": 36,
          "metadata": {},
          "output_type": "execute_result"
        }
      ],
      "source": [
        "test_df.head()"
      ]
    },
    {
      "cell_type": "code",
      "execution_count": null,
      "id": "d23d9e03",
      "metadata": {
        "id": "d23d9e03",
        "outputId": "2cf5ebcf-7cb6-4492-ff7b-327953706586"
      },
      "outputs": [
        {
          "data": {
            "text/plain": [
              "250"
            ]
          },
          "execution_count": 37,
          "metadata": {},
          "output_type": "execute_result"
        }
      ],
      "source": [
        "len(train_df)"
      ]
    },
    {
      "cell_type": "markdown",
      "id": "5e2516bb",
      "metadata": {
        "id": "5e2516bb"
      },
      "source": [
        "## Question 1"
      ]
    },
    {
      "cell_type": "markdown",
      "id": "83be9b8d",
      "metadata": {
        "id": "83be9b8d"
      },
      "source": [
        "###  Function 1 : K-Fold Cross Validation"
      ]
    },
    {
      "cell_type": "code",
      "execution_count": null,
      "id": "42942854",
      "metadata": {
        "id": "42942854"
      },
      "outputs": [],
      "source": [
        "#Splitting training dataset in 10-folds for cross validation\n",
        "def cv_split(data_idx, k=10):\n",
        "    data_split = list()\n",
        "    data_copy = data_idx.copy()\n",
        "    size = int(len(data_idx) / k)\n",
        "    for i in range(k):\n",
        "        fold = list()\n",
        "        while len(fold) < size and len(data_copy) > 0:\n",
        "            idx = data_copy[0]\n",
        "            fold.append(data_copy.pop(0))\n",
        "        data_split.append(fold)\n",
        "    return data_split"
      ]
    },
    {
      "cell_type": "code",
      "execution_count": null,
      "id": "abd73f7f",
      "metadata": {
        "id": "abd73f7f"
      },
      "outputs": [],
      "source": [
        "train_idx = list(train_df.index.values)\n",
        "split_idx = cv_split(train_idx)"
      ]
    },
    {
      "cell_type": "markdown",
      "id": "b13e5cbb",
      "metadata": {
        "id": "b13e5cbb"
      },
      "source": [
        "## Question 2"
      ]
    },
    {
      "cell_type": "markdown",
      "id": "e42319cc",
      "metadata": {
        "id": "e42319cc"
      },
      "source": [
        "### Function 2 : Optimizing Solutions using Gurobi"
      ]
    },
    {
      "cell_type": "code",
      "execution_count": null,
      "id": "55829a5b",
      "metadata": {
        "id": "55829a5b"
      },
      "outputs": [],
      "source": [
        "def Solver(m_var, A, sense, b, lb = None, ub = None, min_max = 'maximize', vtype = None, Q = None, L = None, C = 0, show_output = False, time_limit = 3600):\n",
        "    ''' \n",
        "    The Gurobi Optimizer is run to optimize xT @ Q @ x + L @ x + C with constraint matrix A @ x sense b.\n",
        "    '''\n",
        "    model = gp.Model()                                         #Model Initialization\n",
        "    modelX = model.addMVar(m_var, lb=lb, ub=ub, vtype=vtype)   #Including Variables\n",
        "    modelConstr = model.addMConstr(A, modelX, sense, b)        #Constructing model by incoporating constraint matrix \n",
        "    \n",
        "    if min_max == 'maximize':\n",
        "        model.setMObjective(Q,L,C,sense=gp.GRB.MAXIMIZE)\n",
        "    if min_max == 'minimize':\n",
        "        model.setMObjective(Q,L,C, sense = gp.GRB.MINIMIZE)\n",
        "    \n",
        "    model.Params.OutputFlag = 0\n",
        "    model.setParam('TimeLimit', time_limit)\n",
        "    \n",
        "    model.optimize()\n",
        "    \n",
        "    return modelX.x"
      ]
    },
    {
      "cell_type": "markdown",
      "id": "ad566cd1",
      "metadata": {
        "id": "ad566cd1"
      },
      "source": [
        "### Function 3 : Formulating MIQP Model for Optimization"
      ]
    },
    {
      "cell_type": "code",
      "execution_count": null,
      "id": "6a924282",
      "metadata": {
        "id": "6a924282"
      },
      "outputs": [],
      "source": [
        "def MIQP_Solver(X, y, k, M, m, time_limit):    \n",
        "    '''\n",
        "    MIQP model is solved using big M contraint\n",
        "    '''\n",
        "    q = 2*m+1                                            #Quadratic expression\n",
        "    Q = np.zeros((q,q))\n",
        "    Q[0:m+1, 0:m+1] = X.T @ X\n",
        "    L = np.array(list(-2 * y.T @ X) + [0]*m)             #Linear expression\n",
        "    \n",
        "    A = np.zeros((q,q))                                  #Constraint expression\n",
        "    sense = np.array(['']*q)\n",
        "    b = np.array([0]*q)\n",
        "    \n",
        "    row = 0\n",
        "    A[row:row+m, 1:m+1] = np.identity(m)                 # -Mz_j <= b_j\n",
        "    A[row:row+m, m+1:q] = M*np.identity(m)\n",
        "    sense[row:row+m] = ['>']*m\n",
        "    b[row:row+m] = [0]*m    \n",
        "    \n",
        "    row+=m                          \n",
        "    A[row:row+m, 1:m+1] = np.identity(m)                # b_j <= Mz_j \n",
        "    A[row:row+m, m+1:q] = -1*M*np.identity(m)\n",
        "    sense[row:row+m] = ['<']*m\n",
        "    b[row:row+m] = [0]*m\n",
        "    \n",
        "    row+=m                                              # sum(z_j) = k\n",
        "    A[-1, m+1:q] = [1]*m\n",
        "    sense[-1] = '<'\n",
        "    b[-1] = k\n",
        "    \n",
        "    #Calling the Gurobi Optimizer for MIQP model\n",
        "    beta_vals = Solver(m_var=q, A=A, sense=sense, b=b, lb=np.array([-M]*q), ub=np.array([M]*q), min_max='minimize',\n",
        "                       vtype = ['C']*(m+1) + ['B']*m, time_limit=time_limit, Q=Q, L=L, C=0)\n",
        "    \n",
        "    return beta_vals"
      ]
    },
    {
      "cell_type": "code",
      "execution_count": null,
      "id": "0435269d",
      "metadata": {
        "id": "0435269d"
      },
      "outputs": [],
      "source": [
        "def MIQP_Model(train, split_ix, train_ix, k_range, time_limit = 3600):\n",
        "    ''' \n",
        "    Running MIQP for all varaibles in k_range\n",
        "    '''\n",
        "    mse_outer = {}\n",
        "    m = train.shape[1] - 1\n",
        "    \n",
        "    for k in k_range:\n",
        "        print(f\"Running for k = {k}\")\n",
        "        mse_inner = []\n",
        "        for i, cv_test_ix in enumerate(split_ix):\n",
        "            cv_train_ix = list(set(train_ix) - set(cv_test_ix))\n",
        "            cv_train, cv_test = train.iloc[cv_train_ix], train.iloc[cv_test_ix]\n",
        "\n",
        "            y_train, X_train = cv_train['y'].values, cv_train.drop('y', axis = 1).values\n",
        "            y_val, X_val = cv_test['y'].values, cv_test.drop('y', axis = 1).values\n",
        "\n",
        "            beta_vals = MIQP_Solver(X = X_train, y = y_train, k = k, M = 100, m=X_train.shape[1]-1, time_limit = time_limit)\n",
        "            \n",
        "            pd.DataFrame(beta_vals).to_csv(f'beta_vals_{k}.csv')\n",
        "            \n",
        "            se = (X_val @ beta_vals[0:m] - y_val).T @ (X_val @ beta_vals[0:m] - y_val)\n",
        "            mse = se / len(y_val)\n",
        "            mse_inner.append(mse)\n",
        "            \n",
        "        mse_outer[k] = np.mean(mse_inner)\n",
        "    \n",
        "    return mse_outer"
      ]
    },
    {
      "cell_type": "code",
      "execution_count": null,
      "id": "d87b77b9",
      "metadata": {
        "id": "d87b77b9",
        "outputId": "f1bd7c12-7d5b-4004-a404-d07532e8dc91"
      },
      "outputs": [
        {
          "name": "stdout",
          "output_type": "stream",
          "text": [
            "Running for k = 5\n",
            "Set parameter Username\n",
            "Academic license - for non-commercial use only - expires 2023-08-19\n",
            "Running for k = 10\n",
            "Running for k = 15\n",
            "Running for k = 20\n",
            "Running for k = 25\n",
            "Running for k = 30\n",
            "Running for k = 35\n",
            "Running for k = 40\n",
            "Running for k = 45\n",
            "Running for k = 50\n"
          ]
        }
      ],
      "source": [
        "m=train_df.shape[1]-2    #Max value of m for k value should be 50\n",
        "mse_miqp = MIQP_Model(train_df, split_idx, train_idx, range(5, m+1, 5), time_limit = 7200)"
      ]
    },
    {
      "cell_type": "code",
      "execution_count": null,
      "id": "a0bccabf",
      "metadata": {
        "id": "a0bccabf",
        "outputId": "71977ecc-2a8c-4838-d76e-9fd53c561f1f"
      },
      "outputs": [
        {
          "name": "stdout",
          "output_type": "stream",
          "text": [
            ">>>>>>>> Evaluating Performance of MIQP for different k values\n",
            "For k =  5 MSE =  3.6699162437521933\n",
            "For k =  10 MSE =  2.8991505257152084\n",
            "For k =  15 MSE =  3.0561997503564062\n",
            "For k =  20 MSE =  3.196048803866832\n",
            "For k =  25 MSE =  3.081931311576103\n",
            "For k =  30 MSE =  3.3203296079032056\n",
            "For k =  35 MSE =  3.3244160307996955\n",
            "For k =  40 MSE =  3.389375005053933\n",
            "For k =  45 MSE =  3.3846929430694708\n",
            "For k =  50 MSE =  3.388738181400776\n"
          ]
        }
      ],
      "source": [
        "print(\">>>>>>>> Evaluating Performance of MIQP for different k values\")\n",
        "for key,val in mse_miqp.items():\n",
        "    print(\"For k = \",key, \"MSE = \",val)"
      ]
    },
    {
      "cell_type": "code",
      "execution_count": null,
      "id": "fa516736",
      "metadata": {
        "id": "fa516736",
        "outputId": "122ad394-1e06-4beb-a955-de96e76b6479"
      },
      "outputs": [
        {
          "data": {
            "text/plain": [
              "10"
            ]
          },
          "execution_count": 52,
          "metadata": {},
          "output_type": "execute_result"
        }
      ],
      "source": [
        "optimium_k = pd.Series(mse_miqp).idxmin()\n",
        "print(\"Best Value of k = \", optimium_k)"
      ]
    },
    {
      "cell_type": "markdown",
      "id": "a517d515",
      "metadata": {
        "id": "a517d515"
      },
      "source": [
        "## Question 3"
      ]
    },
    {
      "cell_type": "markdown",
      "id": "c87c2f85",
      "metadata": {
        "id": "c87c2f85"
      },
      "source": [
        "### Running Model with k =10 (Best Value of k with lowest MSE)"
      ]
    },
    {
      "cell_type": "code",
      "execution_count": null,
      "id": "9635c0f4",
      "metadata": {
        "id": "9635c0f4"
      },
      "outputs": [],
      "source": [
        "X_train, y_train = train_df.drop('y', axis = 1).values , train_df['y'].values \n",
        "X_test , y_test = test_df.drop('y', axis = 1).values , test_df['y'].values"
      ]
    },
    {
      "cell_type": "code",
      "execution_count": null,
      "id": "a8549b0a",
      "metadata": {
        "id": "a8549b0a"
      },
      "outputs": [],
      "source": [
        "m = train_df.shape[1]-2\n",
        "\n",
        "beta_vals = MIQP_Solver(X = X_train, y = y_train, k = optimium_k, M = 100, m=m, time_limit = 3600)\n",
        "\n",
        "error_test = (X_test @ beta_vals[0:m+1] - y_test).T @ (X_test @ beta_vals[0:m+1] - y_test)\n",
        "mse_test = error_test / len(y_test)"
      ]
    },
    {
      "cell_type": "code",
      "execution_count": null,
      "id": "47ce1dfe",
      "metadata": {
        "id": "47ce1dfe",
        "outputId": "6fd73324-c8fd-4563-920a-445655ae6d6a",
        "colab": {
          "base_uri": "https://localhost:8080/"
        }
      },
      "outputs": [
        {
          "output_type": "stream",
          "name": "stdout",
          "text": [
            "MSE with k =  10  is  2.3365439645525248\n"
          ]
        }
      ],
      "source": [
        "print(\"MSE with k = \",optimium_k,\" is \",mse_test)"
      ]
    },
    {
      "cell_type": "markdown",
      "source": [
        "## Question 4\n"
      ],
      "metadata": {
        "id": "UN89UMzgYB9W"
      },
      "id": "UN89UMzgYB9W"
    },
    {
      "cell_type": "markdown",
      "source": [
        "### Running a LASSO Model"
      ],
      "metadata": {
        "id": "r1DCgDv6efZs"
      },
      "id": "r1DCgDv6efZs"
    },
    {
      "cell_type": "code",
      "source": [
        "# Removes the intercept term from the train and test set\n",
        "# Note this change does not effect output for math reasons, but we do it here anyways as good practice and to show off\n",
        "X_train_lasso = X_train[:,1:]\n",
        "X_test_lasso = X_test[:,1:]\n",
        "X_train_lasso"
      ],
      "metadata": {
        "id": "5r8eMgBDXg3F",
        "colab": {
          "base_uri": "https://localhost:8080/"
        },
        "outputId": "7c74f8ed-ba85-4a15-a954-b43983f9c719"
      },
      "id": "5r8eMgBDXg3F",
      "execution_count": null,
      "outputs": [
        {
          "output_type": "execute_result",
          "data": {
            "text/plain": [
              "array([[-1.53541286e+00,  7.18887717e-01, -2.09914874e+00, ...,\n",
              "        -4.71045042e-01, -1.13978107e+00, -2.60772742e-01],\n",
              "       [-1.73460938e+00,  5.51981259e-01, -2.14767300e+00, ...,\n",
              "        -2.42564880e-01, -1.82662085e-03,  1.18745316e+00],\n",
              "       [ 9.72566647e-02,  1.07634348e-01, -1.94222301e-01, ...,\n",
              "        -7.51230919e-01,  1.45060937e+00,  2.90593419e-01],\n",
              "       ...,\n",
              "       [ 9.12367152e-02,  4.73697596e-01,  5.18318072e-02, ...,\n",
              "        -8.41853603e-02, -2.00142679e-01,  8.40785925e-01],\n",
              "       [-1.40700336e+00,  5.10885944e-01, -2.07758443e+00, ...,\n",
              "        -5.22506923e-02,  5.43761518e-01,  2.74006244e-01],\n",
              "       [-1.95950543e+00,  2.71732927e-01, -5.75357413e-01, ...,\n",
              "         2.05276206e+00,  3.35630224e-02, -1.19848557e+00]])"
            ]
          },
          "metadata": {},
          "execution_count": 47
        }
      ]
    },
    {
      "cell_type": "code",
      "source": [
        "# Cross validates to select best lambda value. Fits entire data on the entire dataset\n",
        "from sklearn.linear_model import LassoCV\n",
        "\n",
        "# CV LASSO and fit on train\n",
        "lasso = LassoCV(cv = 10).fit(X_train_lasso, y_train)\n",
        "\n",
        "# Coefficients of Model\n",
        "lasso.coef_"
      ],
      "metadata": {
        "colab": {
          "base_uri": "https://localhost:8080/"
        },
        "id": "HPUy76tqx5tw",
        "outputId": "13030562-260e-4630-fd29-66fa260a84a9"
      },
      "id": "HPUy76tqx5tw",
      "execution_count": null,
      "outputs": [
        {
          "output_type": "execute_result",
          "data": {
            "text/plain": [
              "array([-0.        , -0.        ,  0.        ,  0.        , -0.        ,\n",
              "        0.        , -0.        , -0.        , -2.16054765,  0.        ,\n",
              "       -0.05964031, -0.        , -0.        , -0.        , -0.41912484,\n",
              "       -0.19325408,  0.        ,  0.        , -0.        ,  0.        ,\n",
              "        0.        , -0.19517759, -1.36388738,  0.7425965 , -0.        ,\n",
              "       -1.30481574, -0.        ,  0.        ,  0.05798283,  0.        ,\n",
              "       -0.        ,  0.        , -0.09737839,  0.28341629,  0.        ,\n",
              "        0.        ,  0.        ,  0.        , -0.23157873,  0.        ,\n",
              "       -0.        ,  0.        ,  0.        ,  0.03078191,  1.56362172,\n",
              "       -0.02160033,  0.69992447, -0.09289745,  0.        ,  0.        ])"
            ]
          },
          "metadata": {},
          "execution_count": 48
        }
      ]
    },
    {
      "cell_type": "code",
      "source": [
        "# Prediction of y-values\n",
        "y_hat = lasso.predict(X_test_lasso)\n",
        "lasso_mse = np.mean((y_test - y_hat)**2)\n",
        "n_lasso_selected = sum(lasso.coef_ != 0)\n",
        "print(\"MSE with lambda = \",lasso.alpha_,\" is \",lasso_mse, \"with\", n_lasso_selected, \"variables selected.\")"
      ],
      "metadata": {
        "id": "UK1k536QYPx9",
        "colab": {
          "base_uri": "https://localhost:8080/"
        },
        "outputId": "1f1b154c-a9e6-4c53-9049-38bc43bad519"
      },
      "id": "UK1k536QYPx9",
      "execution_count": null,
      "outputs": [
        {
          "output_type": "stream",
          "name": "stdout",
          "text": [
            "MSE with lambda =  0.07638765995113514  is  2.3496347591605797 with 17 variables selected.\n"
          ]
        }
      ]
    },
    {
      "cell_type": "code",
      "source": [
        "# Average Size of Coefficients\n",
        "fig, (ax1, ax2) = plt.subplots(nrows = 2, ncols = 1, sharex = True, figsize = (8,12))\n",
        "\n",
        "# Pulls MIQP coefficients from optimization output\n",
        "MIQP_coef = beta_vals[:51]\n",
        "\n",
        "ax1.hist(lasso.coef_[lasso.coef_ != 0])\n",
        "ax1.set_title(\"Histogram of Optimal Lasso Coefficients\")\n",
        "ax2.hist(MIQP_coef[1:][MIQP_coef[1:] != 0])\n",
        "ax2.set_title(\"Histogram of Optimal MIQP Coefficients\")"
      ],
      "metadata": {
        "colab": {
          "base_uri": "https://localhost:8080/",
          "height": 733
        },
        "id": "3j3MJBzYglk6",
        "outputId": "e9c6c313-7c1c-4e3f-83cf-46ea7f95fb39"
      },
      "id": "3j3MJBzYglk6",
      "execution_count": null,
      "outputs": [
        {
          "output_type": "execute_result",
          "data": {
            "text/plain": [
              "Text(0.5, 1.0, 'Histogram of Optimal MIQP Coefficients')"
            ]
          },
          "metadata": {},
          "execution_count": 52
        },
        {
          "output_type": "display_data",
          "data": {
            "text/plain": [
              "<Figure size 576x864 with 2 Axes>"
            ],
            "image/png": "[encoded data removed]"
          },
          "metadata": {
            "needs_background": "light"
          }
        }
      ]
    }
  ],
  "metadata": {
    "kernelspec": {
      "display_name": "Python 3 (ipykernel)",
      "language": "python",
      "name": "python3"
    },
    "language_info": {
      "codemirror_mode": {
        "name": "ipython",
        "version": 3
      },
      "file_extension": ".py",
      "mimetype": "text/x-python",
      "name": "python",
      "nbconvert_exporter": "python",
      "pygments_lexer": "ipython3",
      "version": "3.9.12"
    },
    "colab": {
      "provenance": []
    }
  },
  "nbformat": 4,
  "nbformat_minor": 5
}